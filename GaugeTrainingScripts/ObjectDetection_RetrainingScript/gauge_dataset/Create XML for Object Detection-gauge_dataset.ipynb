{
 "cells": [
  {
   "cell_type": "markdown",
   "metadata": {},
   "source": [
    "## Create XML for Object Dection"
   ]
  },
  {
   "cell_type": "code",
   "execution_count": 57,
   "metadata": {
    "collapsed": true
   },
   "outputs": [],
   "source": [
    "import glob\n",
    "import xml.etree.ElementTree as ET"
   ]
  },
  {
   "cell_type": "code",
   "execution_count": 58,
   "metadata": {
    "collapsed": true
   },
   "outputs": [],
   "source": [
    "# Define constants\n",
    "FOLDER = 'images'\n",
    "#PATH = '/Users/jordanwalker/Code/reference-architecture/python/electric-gauge/psi_gauge/{}'\n",
    "PATH = '/home/ms/Downloads/OCI/DeepGaugeReader_ProjectFiles/ObjectDetection_RetrainingScript/gauge_dataset/{}'\n",
    "LOCAL_PATH = \"./annotations/{0}.xml\"\n",
    "WIDTH = '224'\n",
    "HEIGHT = '224'\n",
    "DEPTH = '1'\n",
    "XMIN = '10'\n",
    "YMIN = '10'\n",
    "XMAX = '214'\n",
    "YMAX = '214'"
   ]
  },
  {
   "cell_type": "code",
   "execution_count": 59,
   "metadata": {
    "collapsed": true
   },
   "outputs": [],
   "source": [
    "def make_xml_file(filename, name, abs_path):\n",
    "    # define the variables\n",
    "    FILENAME = filename\n",
    "    NAME = name\n",
    "    # create the file structure\n",
    "    annotation = ET.Element('annotation')\n",
    "    folder = ET.SubElement(annotation, 'folder')  \n",
    "    filename = ET.SubElement(annotation, 'filename')\n",
    "    path = ET.SubElement(annotation, 'path')\n",
    "    source = ET.SubElement(annotation, 'source')\n",
    "    database = ET.SubElement(source, 'database')\n",
    "    size = ET.SubElement(annotation, 'size')\n",
    "    width = ET.SubElement(size, 'width')\n",
    "    height = ET.SubElement(size, 'height')\n",
    "    depth = ET.SubElement(size, 'depth')\n",
    "    segmented = ET.SubElement(annotation, 'segmented')\n",
    "    obj = ET.SubElement(annotation, 'object')\n",
    "    name = ET.SubElement(obj, 'name')\n",
    "    pose = ET.SubElement(obj, 'pose')\n",
    "    truncated = ET.SubElement(obj, 'truncated')\n",
    "    difficult = ET.SubElement(obj, 'difficult')\n",
    "    bndbox = ET.SubElement(obj, 'bndbox')\n",
    "    xmin = ET.SubElement(bndbox, 'xmin')\n",
    "    ymin = ET.SubElement(bndbox, 'ymin')\n",
    "    xmax = ET.SubElement(bndbox, 'xmax')\n",
    "    ymax = ET.SubElement(bndbox, 'ymax')\n",
    "\n",
    "    # Populate the text between the tags\n",
    "    annotation.set('verified','yes') \n",
    "    folder.text = FOLDER\n",
    "    filename.text = FILENAME\n",
    "    path.text = PATH.format(abs_path)\n",
    "    database.text = 'Unknown'\n",
    "    width.text = WIDTH\n",
    "    height.text = HEIGHT\n",
    "    depth.text = DEPTH\n",
    "    segmented.text = '0'\n",
    "    name.text = 'gauge'\n",
    "    pose.text = 'Unspecified'\n",
    "    truncated.text = '0'\n",
    "    difficult.text = '0'\n",
    "    xmin.text = XMIN\n",
    "    ymin.text = YMIN\n",
    "    xmax.text = XMAX\n",
    "    ymax.text = YMAX\n",
    "\n",
    "    # create a new XML file with the results\n",
    "    mydata = ET.tostring(annotation)  \n",
    "    file = LOCAL_PATH.format(NAME)\n",
    "    myfile = open(file, \"wb\")  \n",
    "    myfile.write(mydata) "
   ]
  },
  {
   "cell_type": "code",
   "execution_count": 60,
   "metadata": {},
   "outputs": [
    {
     "name": "stdout",
     "output_type": "stream",
     "text": [
      "['images/gauge-76.jpg', 'images/gauge-110.jpg', 'images/gauge-134.jpg', 'images/gauge-216.jpg', 'images/gauge-124.jpg', 'images/gauge-193.jpg', 'images/gauge-235.jpg', 'images/gauge-91.jpg', 'images/gauge-53.jpg', 'images/gauge-182.jpg', 'images/gauge-29.jpg', 'images/gauge-212.jpg', 'images/gauge-122.jpg', 'images/gauge-74.jpg', 'images/gauge-62.jpg', 'images/gauge-127.jpg', 'images/gauge-115.jpg', 'images/gauge-172.jpg', 'images/gauge-165.jpg', 'images/gauge-55.jpg', 'images/gauge-22.jpg', 'images/gauge-11.jpg', 'images/gauge-209.jpg', 'images/gauge-113.jpg', 'images/gauge-46.jpg', 'images/gauge-38.jpg', 'images/gauge-154.jpg', 'images/gauge-227.jpg', 'images/gauge-233.jpg', 'images/gauge-244.jpg', 'images/gauge-81.jpg', 'images/gauge-157.jpg', 'images/gauge-181.jpg', 'images/gauge-65.jpg', 'images/gauge-27.jpg', 'images/gauge-164.jpg', 'images/gauge-108.jpg', 'images/gauge-143.jpg', 'images/gauge-82.jpg', 'images/gauge-4.jpg', 'images/gauge-239.jpg', 'images/gauge-200.jpg', 'images/gauge-177.jpg', 'images/gauge-183.jpg', 'images/gauge-141.jpg', 'images/gauge-112.jpg', 'images/gauge-66.jpg', 'images/gauge-130.jpg', 'images/gauge-83.jpg', 'images/gauge-89.jpg', 'images/gauge-217.jpg', 'images/gauge-97.jpg', 'images/gauge-78.jpg', 'images/gauge-71.jpg', 'images/gauge-116.jpg', 'images/gauge-37.jpg', 'images/gauge-135.jpg', 'images/gauge-43.jpg', 'images/gauge-245.jpg', 'images/gauge-150.jpg', 'images/gauge-138.jpg', 'images/gauge-171.jpg', 'images/gauge-156.jpg', 'images/gauge-238.jpg', 'images/gauge-120.jpg', 'images/gauge-220.jpg', 'images/gauge-54.jpg', 'images/gauge-80.jpg', 'images/gauge-79.jpg', 'images/gauge-10.jpg', 'images/gauge-107.jpg', 'images/gauge-149.jpg', 'images/gauge-125.jpg', 'images/gauge-204.jpg', 'images/gauge-224.jpg', 'images/gauge-33.jpg', 'images/gauge-114.jpg', 'images/gauge-52.jpg', 'images/gauge-123.jpg', 'images/gauge-41.jpg', 'images/gauge-206.jpg', 'images/gauge-69.jpg', 'images/gauge-144.jpg', 'images/gauge-92.jpg', 'images/gauge-145.jpg', 'images/gauge-139.jpg', 'images/gauge-102.jpg', 'images/gauge-210.jpg', 'images/gauge-166.jpg', 'images/gauge-186.jpg', 'images/gauge-103.jpg', 'images/gauge-60.jpg', 'images/gauge-47.jpg', 'images/gauge-106.jpg', 'images/gauge-21.jpg', 'images/gauge-221.jpg', 'images/gauge-26.jpg', 'images/gauge-100.jpg', 'images/gauge-215.jpg', 'images/gauge-117.jpg', 'images/gauge-162.jpg', 'images/gauge-96.jpg', 'images/gauge-167.jpg', 'images/gauge-44.jpg', 'images/gauge-24.jpg', 'images/gauge-148.jpg', 'images/gauge-23.jpg', 'images/gauge-133.jpg', 'images/gauge-77.jpg', 'images/gauge-67.jpg', 'images/gauge-146.jpg', 'images/gauge-176.jpg', 'images/gauge-35.jpg', 'images/gauge-132.jpg', 'images/gauge-48.jpg', 'images/gauge-8.jpg', 'images/gauge-137.jpg', 'images/gauge-142.jpg', 'images/gauge-230.jpg', 'images/gauge-225.jpg', 'images/gauge-131.jpg', 'images/gauge-197.jpg', 'images/gauge-5.jpg', 'images/gauge-170.jpg', 'images/gauge-192.jpg', 'images/gauge-194.jpg', 'images/gauge-31.jpg', 'images/gauge-191.jpg', 'images/gauge-175.jpg', 'images/gauge-160.jpg', 'images/gauge-119.jpg', 'images/gauge-203.jpg', 'images/gauge-187.jpg', 'images/gauge-73.jpg', 'images/gauge-152.jpg', 'images/gauge-153.jpg', 'images/gauge-75.jpg', 'images/gauge-237.jpg', 'images/gauge-16.jpg', 'images/gauge-19.jpg', 'images/gauge-104.jpg', 'images/gauge-68.jpg', 'images/gauge-234.jpg', 'images/gauge-3.jpg', 'images/gauge-178.jpg', 'images/gauge-168.jpg', 'images/gauge-59.jpg', 'images/gauge-1.jpg', 'images/gauge-88.jpg', 'images/gauge-63.jpg', 'images/gauge-57.jpg', 'images/gauge-208.jpg', 'images/gauge-98.jpg', 'images/gauge-240.jpg', 'images/gauge-129.jpg', 'images/gauge-51.jpg', 'images/gauge-90.jpg', 'images/gauge-226.jpg', 'images/gauge-236.jpg', 'images/gauge-15.jpg', 'images/gauge-242.jpg', 'images/gauge-174.jpg', 'images/gauge-85.jpg', 'images/gauge-121.jpg', 'images/gauge-202.jpg', 'images/gauge-94.jpg', 'images/gauge-163.jpg', 'images/gauge-61.jpg', 'images/gauge-211.jpg', 'images/gauge-223.jpg', 'images/gauge-195.jpg', 'images/gauge-241.jpg', 'images/gauge-9.jpg', 'images/gauge-36.jpg', 'images/gauge-111.jpg', 'images/gauge-34.jpg', 'images/gauge-126.jpg', 'images/gauge-213.jpg', 'images/gauge-179.jpg', 'images/gauge-101.jpg', 'images/gauge-70.jpg', 'images/gauge-58.jpg', 'images/gauge-39.jpg', 'images/gauge-109.jpg', 'images/gauge-99.jpg', 'images/gauge-151.jpg', 'images/gauge-180.jpg', 'images/gauge-199.jpg', 'images/gauge-161.jpg', 'images/gauge-205.jpg', 'images/gauge-118.jpg', 'images/gauge-214.jpg', 'images/gauge-184.jpg', 'images/gauge-14.jpg', 'images/gauge-229.jpg', 'images/gauge-228.jpg', 'images/gauge-7.jpg', 'images/gauge-232.jpg', 'images/gauge-56.jpg', 'images/gauge-40.jpg', 'images/gauge-12.jpg', 'images/gauge-218.jpg', 'images/gauge-13.jpg', 'images/gauge-207.jpg', 'images/gauge-159.jpg', 'images/gauge-147.jpg', 'images/gauge-93.jpg', 'images/gauge-50.jpg', 'images/gauge-45.jpg', 'images/gauge-25.jpg', 'images/gauge-30.jpg', 'images/gauge-18.jpg', 'images/gauge-158.jpg', 'images/gauge-2.jpg', 'images/gauge-169.jpg', 'images/gauge-87.jpg', 'images/gauge-173.jpg', 'images/gauge-6.jpg', 'images/gauge-17.jpg', 'images/gauge-95.jpg', 'images/gauge-198.jpg', 'images/gauge-155.jpg', 'images/gauge-188.jpg', 'images/gauge-128.jpg', 'images/gauge-140.jpg', 'images/gauge-190.jpg', 'images/gauge-28.jpg', 'images/gauge-231.jpg', 'images/gauge-32.jpg', 'images/gauge-189.jpg', 'images/gauge-222.jpg', 'images/gauge-136.jpg', 'images/gauge-49.jpg', 'images/gauge-105.jpg', 'images/gauge-64.jpg', 'images/gauge-219.jpg', 'images/gauge-196.jpg', 'images/gauge-243.jpg', 'images/gauge-42.jpg', 'images/gauge-72.jpg', 'images/gauge-201.jpg', 'images/gauge-20.jpg', 'images/gauge-86.jpg', 'images/gauge-185.jpg', 'images/gauge-84.jpg']\n"
     ]
    }
   ],
   "source": [
    "dirList = glob.glob(\"images/*.jpg\")\n",
    "X_img_paths = ['{}'.format(file) for file in dirList]\n",
    "print (X_img_paths)"
   ]
  },
  {
   "cell_type": "code",
   "execution_count": 61,
   "metadata": {},
   "outputs": [
    {
     "name": "stdout",
     "output_type": "stream",
     "text": [
      "245\n",
      "gauge-76\n",
      "gauge-110\n",
      "gauge-134\n",
      "gauge-216\n",
      "gauge-124\n",
      "gauge-193\n",
      "gauge-235\n",
      "gauge-91\n",
      "gauge-53\n",
      "gauge-182\n",
      "gauge-29\n",
      "gauge-212\n",
      "gauge-122\n",
      "gauge-74\n",
      "gauge-62\n",
      "gauge-127\n",
      "gauge-115\n",
      "gauge-172\n",
      "gauge-165\n",
      "gauge-55\n",
      "gauge-22\n",
      "gauge-11\n",
      "gauge-209\n",
      "gauge-113\n",
      "gauge-46\n",
      "gauge-38\n",
      "gauge-154\n",
      "gauge-227\n",
      "gauge-233\n",
      "gauge-244\n",
      "gauge-81\n",
      "gauge-157\n",
      "gauge-181\n",
      "gauge-65\n",
      "gauge-27\n",
      "gauge-164\n",
      "gauge-108\n",
      "gauge-143\n",
      "gauge-82\n",
      "gauge-4\n",
      "gauge-239\n",
      "gauge-200\n",
      "gauge-177\n",
      "gauge-183\n",
      "gauge-141\n",
      "gauge-112\n",
      "gauge-66\n",
      "gauge-130\n",
      "gauge-83\n",
      "gauge-89\n",
      "gauge-217\n",
      "gauge-97\n",
      "gauge-78\n",
      "gauge-71\n",
      "gauge-116\n",
      "gauge-37\n",
      "gauge-135\n",
      "gauge-43\n",
      "gauge-245\n",
      "gauge-150\n",
      "gauge-138\n",
      "gauge-171\n",
      "gauge-156\n",
      "gauge-238\n",
      "gauge-120\n",
      "gauge-220\n",
      "gauge-54\n",
      "gauge-80\n",
      "gauge-79\n",
      "gauge-10\n",
      "gauge-107\n",
      "gauge-149\n",
      "gauge-125\n",
      "gauge-204\n",
      "gauge-224\n",
      "gauge-33\n",
      "gauge-114\n",
      "gauge-52\n",
      "gauge-123\n",
      "gauge-41\n",
      "gauge-206\n",
      "gauge-69\n",
      "gauge-144\n",
      "gauge-92\n",
      "gauge-145\n",
      "gauge-139\n",
      "gauge-102\n",
      "gauge-210\n",
      "gauge-166\n",
      "gauge-186\n",
      "gauge-103\n",
      "gauge-60\n",
      "gauge-47\n",
      "gauge-106\n",
      "gauge-21\n",
      "gauge-221\n",
      "gauge-26\n",
      "gauge-100\n",
      "gauge-215\n",
      "gauge-117\n",
      "gauge-162\n",
      "gauge-96\n",
      "gauge-167\n",
      "gauge-44\n",
      "gauge-24\n",
      "gauge-148\n",
      "gauge-23\n",
      "gauge-133\n",
      "gauge-77\n",
      "gauge-67\n",
      "gauge-146\n",
      "gauge-176\n",
      "gauge-35\n",
      "gauge-132\n",
      "gauge-48\n",
      "gauge-8\n",
      "gauge-137\n",
      "gauge-142\n",
      "gauge-230\n",
      "gauge-225\n",
      "gauge-131\n",
      "gauge-197\n",
      "gauge-5\n",
      "gauge-170\n",
      "gauge-192\n",
      "gauge-194\n",
      "gauge-31\n",
      "gauge-191\n",
      "gauge-175\n",
      "gauge-160\n",
      "gauge-119\n",
      "gauge-203\n",
      "gauge-187\n",
      "gauge-73\n",
      "gauge-152\n",
      "gauge-153\n",
      "gauge-75\n",
      "gauge-237\n",
      "gauge-16\n",
      "gauge-19\n",
      "gauge-104\n",
      "gauge-68\n",
      "gauge-234\n",
      "gauge-3\n",
      "gauge-178\n",
      "gauge-168\n",
      "gauge-59\n",
      "gauge-1\n",
      "gauge-88\n",
      "gauge-63\n",
      "gauge-57\n",
      "gauge-208\n",
      "gauge-98\n",
      "gauge-240\n",
      "gauge-129\n",
      "gauge-51\n",
      "gauge-90\n",
      "gauge-226\n",
      "gauge-236\n",
      "gauge-15\n",
      "gauge-242\n",
      "gauge-174\n",
      "gauge-85\n",
      "gauge-121\n",
      "gauge-202\n",
      "gauge-94\n",
      "gauge-163\n",
      "gauge-61\n",
      "gauge-211\n",
      "gauge-223\n",
      "gauge-195\n",
      "gauge-241\n",
      "gauge-9\n",
      "gauge-36\n",
      "gauge-111\n",
      "gauge-34\n",
      "gauge-126\n",
      "gauge-213\n",
      "gauge-179\n",
      "gauge-101\n",
      "gauge-70\n",
      "gauge-58\n",
      "gauge-39\n",
      "gauge-109\n",
      "gauge-99\n",
      "gauge-151\n",
      "gauge-180\n",
      "gauge-199\n",
      "gauge-161\n",
      "gauge-205\n",
      "gauge-118\n",
      "gauge-214\n",
      "gauge-184\n",
      "gauge-14\n",
      "gauge-229\n",
      "gauge-228\n",
      "gauge-7\n",
      "gauge-232\n",
      "gauge-56\n",
      "gauge-40\n",
      "gauge-12\n",
      "gauge-218\n",
      "gauge-13\n",
      "gauge-207\n",
      "gauge-159\n",
      "gauge-147\n",
      "gauge-93\n",
      "gauge-50\n",
      "gauge-45\n",
      "gauge-25\n",
      "gauge-30\n",
      "gauge-18\n",
      "gauge-158\n",
      "gauge-2\n",
      "gauge-169\n",
      "gauge-87\n",
      "gauge-173\n",
      "gauge-6\n",
      "gauge-17\n",
      "gauge-95\n",
      "gauge-198\n",
      "gauge-155\n",
      "gauge-188\n",
      "gauge-128\n",
      "gauge-140\n",
      "gauge-190\n",
      "gauge-28\n",
      "gauge-231\n",
      "gauge-32\n",
      "gauge-189\n",
      "gauge-222\n",
      "gauge-136\n",
      "gauge-49\n",
      "gauge-105\n",
      "gauge-64\n",
      "gauge-219\n",
      "gauge-196\n",
      "gauge-243\n",
      "gauge-42\n",
      "gauge-72\n",
      "gauge-201\n",
      "gauge-20\n",
      "gauge-86\n",
      "gauge-185\n",
      "gauge-84\n"
     ]
    }
   ],
   "source": [
    "print(len(X_img_paths))\n",
    "# iterate through the images\n",
    "for img in X_img_paths:\n",
    "    # split on / and join the names with an _\n",
    "    split = img.split('/')\n",
    "    name = \"_\".join(split[1:]).replace('.jpg','')\n",
    "    print(name)\n",
    "    make_xml_file(split[-1], name, img) \n",
    "      "
   ]
  },
  {
   "cell_type": "markdown",
   "metadata": {
    "collapsed": true
   },
   "source": [
    " ## Convert xml files ot csv"
   ]
  },
  {
   "cell_type": "code",
   "execution_count": 62,
   "metadata": {},
   "outputs": [
    {
     "name": "stdout",
     "output_type": "stream",
     "text": [
      "Successfully converted xml to csv.\n"
     ]
    }
   ],
   "source": [
    "import os\n",
    "import glob\n",
    "import pandas as pd\n",
    "import xml.etree.ElementTree as ET\n",
    "\n",
    "\n",
    "def xml_to_csv(path):\n",
    "    xml_list = []\n",
    "    for xml_file in glob.glob(path + '/*.xml'):\n",
    "        tree = ET.parse(xml_file)\n",
    "        root = tree.getroot()\n",
    "        for member in root.findall('object'):\n",
    "            value = (root.find('filename').text,\n",
    "                     int(root.find('size')[0].text),\n",
    "                     int(root.find('size')[1].text),\n",
    "                     member[0].text,\n",
    "                     int(member[4][0].text),\n",
    "                     int(member[4][1].text),\n",
    "                     int(member[4][2].text),\n",
    "                     int(member[4][3].text)\n",
    "                     )\n",
    "            xml_list.append(value)\n",
    "    column_name = ['filename', 'width', 'height', 'class', 'xmin', 'ymin', 'xmax', 'ymax']\n",
    "    xml_df = pd.DataFrame(xml_list, columns=column_name)\n",
    "    return xml_df\n",
    "\n",
    "\n",
    "def main():\n",
    "    image_path = os.path.join(os.getcwd(), 'annotations')\n",
    "    xml_df = xml_to_csv(image_path)\n",
    "    xml_df.to_csv('./data/gauge_labels.csv', index=None)\n",
    "    print('Successfully converted xml to csv.')\n",
    "\n",
    "\n",
    "main()"
   ]
  },
  {
   "cell_type": "markdown",
   "metadata": {
    "collapsed": true
   },
   "source": [
    " ## Split the csv file into train and test"
   ]
  },
  {
   "cell_type": "code",
   "execution_count": 63,
   "metadata": {
    "collapsed": true
   },
   "outputs": [],
   "source": [
    "import numpy as np\n",
    "import pandas as pd\n",
    "np.random.seed(1)\n"
   ]
  },
  {
   "cell_type": "code",
   "execution_count": 64,
   "metadata": {},
   "outputs": [
    {
     "data": {
      "text/plain": [
       "245"
      ]
     },
     "execution_count": 64,
     "metadata": {},
     "output_type": "execute_result"
    }
   ],
   "source": [
    "full_labels = pd.read_csv('./data/gauge_labels.csv')\n",
    "full_labels.head()\n",
    "len(full_labels)\n"
   ]
  },
  {
   "cell_type": "code",
   "execution_count": 65,
   "metadata": {},
   "outputs": [
    {
     "data": {
      "text/plain": [
       "245"
      ]
     },
     "execution_count": 65,
     "metadata": {},
     "output_type": "execute_result"
    }
   ],
   "source": [
    "grouped = full_labels.groupby('filename')\n",
    "len(grouped)\n",
    "\n"
   ]
  },
  {
   "cell_type": "code",
   "execution_count": 66,
   "metadata": {},
   "outputs": [
    {
     "data": {
      "text/plain": [
       "1    245\n",
       "dtype: int64"
      ]
     },
     "execution_count": 66,
     "metadata": {},
     "output_type": "execute_result"
    }
   ],
   "source": [
    "grouped.apply(lambda x: len(x)).value_counts()"
   ]
  },
  {
   "cell_type": "code",
   "execution_count": 67,
   "metadata": {
    "collapsed": true
   },
   "outputs": [],
   "source": [
    "gb = full_labels.groupby('filename')\n",
    "grouped_list = [gb.get_group(x) for x in gb.groups]\n",
    "len(grouped_list)\n",
    "train_index = np.random.choice(len(grouped_list), size=160, replace=False)\n",
    "test_index = np.setdiff1d(list(range(200)), train_index)\n",
    "len(train_index), len(test_index)\n",
    "# take first 200 files\n",
    "train = pd.concat([grouped_list[i] for i in train_index])\n",
    "test = pd.concat([grouped_list[i] for i in test_index])\n",
    "len(train), len(test)\n",
    "train.to_csv('./data/train_labels.csv', index=None)\n",
    "test.to_csv('./data/test_labels.csv', index=None)"
   ]
  },
  {
   "cell_type": "markdown",
   "metadata": {},
   "source": [
    " ## Generating test and train TFRecords"
   ]
  },
  {
   "cell_type": "markdown",
   "metadata": {},
   "source": [
    "#Use generate_tfrecords.py to generate tfrecords for test and train."
   ]
  }
 ],
 "metadata": {
  "kernelspec": {
   "display_name": "Python 3",
   "language": "python",
   "name": "python3"
  },
  "language_info": {
   "codemirror_mode": {
    "name": "ipython",
    "version": 3
   },
   "file_extension": ".py",
   "mimetype": "text/x-python",
   "name": "python",
   "nbconvert_exporter": "python",
   "pygments_lexer": "ipython3",
   "version": "3.6.3"
  }
 },
 "nbformat": 4,
 "nbformat_minor": 2
}
